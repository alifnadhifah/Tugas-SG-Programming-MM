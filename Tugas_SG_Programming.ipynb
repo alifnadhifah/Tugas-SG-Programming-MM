{
  "nbformat": 4,
  "nbformat_minor": 0,
  "metadata": {
    "colab": {
      "name": "Tugas SG Programming.ipynb",
      "provenance": [],
      "collapsed_sections": [],
      "authorship_tag": "ABX9TyM2PmWGsM1t6YNElFER6LTK",
      "include_colab_link": true
    },
    "kernelspec": {
      "name": "python3",
      "display_name": "Python 3"
    }
  },
  "cells": [
    {
      "cell_type": "markdown",
      "metadata": {
        "id": "view-in-github",
        "colab_type": "text"
      },
      "source": [
        "<a href=\"https://colab.research.google.com/github/alifnadhifah/Tugas-SG-Programming-MM/blob/master/Tugas_SG_Programming.ipynb\" target=\"_parent\"><img src=\"https://colab.research.google.com/assets/colab-badge.svg\" alt=\"Open In Colab\"/></a>"
      ]
    },
    {
      "cell_type": "code",
      "metadata": {
        "id": "ifN8cqsb9Pwy",
        "colab_type": "code",
        "colab": {}
      },
      "source": [
        "import numpy as np\n",
        "import matplotlib.pyplot as plt"
      ],
      "execution_count": 98,
      "outputs": []
    },
    {
      "cell_type": "code",
      "metadata": {
        "id": "qg2IKqvk9rvr",
        "colab_type": "code",
        "colab": {}
      },
      "source": [
        "#Inisialisasi Variabel Global\n",
        "v0 = 25\n",
        "deg = 45\n",
        "massa = 0.18\n",
        "nilaiD = 0.0018\n",
        "\n",
        "#Function Hitung Parabola Tanpa Hambatan\n",
        "def parabola1(vX,vY):\n",
        "  x = 0\n",
        "  y = 0\n",
        "  g = 9.8\n",
        "  t = 0\n",
        "  dt = 0.001\n",
        "\n",
        "  xAr = [x]\n",
        "  yAr = [y]\n",
        "  tAr = [t]\n",
        "\n",
        "  aY = -1 * g\n",
        "\n",
        "  while y >= 0 :\n",
        "    t += dt\n",
        "    vY += aY * dt\n",
        "    x += vX * dt\n",
        "    y += vY * dt\n",
        "\n",
        "    if (y < 0) :\n",
        "      break\n",
        "\n",
        "    xAr.append(x)\n",
        "    yAr.append(y)\n",
        "    tAr.append(t)\n",
        "\n",
        "  return xAr,yAr\n",
        "\n",
        "#Function Hitung Parabola Ada Hambatan\n",
        "def parabola2(vX,vY,m,D):\n",
        "  x = 0\n",
        "  y = 0\n",
        "  g = 9.8\n",
        "  t = 0\n",
        "  dt = 0.001\n",
        "\n",
        "  xArD = [x]\n",
        "  yArD = [y]\n",
        "  tArD = [t]\n",
        "\n",
        "  aX = -1 * ((D/m) * v0 * vX)\n",
        "  aY = (-1 * g) - ((D/m) *v0 * vY)\n",
        "\n",
        "  while y >= 0 :\n",
        "    t += dt\n",
        "    vX += aX*dt\n",
        "    vY += aY*dt\n",
        "    x += vX*dt\n",
        "    y += vY*dt\n",
        "\n",
        "    if (y < 0) :\n",
        "      break\n",
        "\n",
        "    xArD.append(x)\n",
        "    yArD.append(y)\n",
        "    tArD.append(t)\n",
        "\n",
        "  return xArD,yArD\n",
        "\n",
        "#Main Algorithm\n",
        "nilaivX = v0 * np.cos(np.deg2rad(deg))\n",
        "nilaivY = v0 * np.sin(np.deg2rad(deg))\n",
        "\n",
        "#Panggil Function Parabola 1\n",
        "xAr1,yAr1 = parabola1(nilaivX, nilaivY)\n",
        "\n",
        "#Panggil Function Parabola 2\n",
        "xAr2,yAr2 = parabola2(nilaivX, nilaivY, massa, nilaiD)\n"
      ],
      "execution_count": 99,
      "outputs": []
    },
    {
      "cell_type": "code",
      "metadata": {
        "id": "47UesLti_D9W",
        "colab_type": "code",
        "colab": {
          "base_uri": "https://localhost:8080/",
          "height": 297
        },
        "outputId": "a3dfc5fb-af2d-4981-88ef-1803532e071f"
      },
      "source": [
        "#Inisialisasi Plot\n",
        "judul = 'Gerak Parabola'\n",
        "plt.plot(xAr1,yAr1,'b--', label='tanpa hambatan')\n",
        "plt.plot(xAr2,yAr2,'r--', label='ada hambatan')\n",
        "plt.legend(loc='upper right')\n",
        "\n",
        "plt.text(3, 12, r'$ \\mathcal{v0} = {25} m/s $')\n",
        "plt.text(3, 13, r'$ \\mathcal{D} = {0.0018} $')\n",
        "plt.text(3, 14, r'$ g = {9.8} m/s^2$')\n",
        "plt.text(3, 15, r'$ m = {0.18} Kg$')\n",
        "plt.text(3, 0.5, r'${45}^0$')\n",
        "\n",
        "plt.title(judul)\n",
        "\n",
        "plt.xticks([0, 20 , 40, 60],\n",
        "           [r'${0}m$', r'${20}m$', r'${40}m$', r'${60}m$'])\n",
        "plt.yticks([0, 4, 8, 12, 16],\n",
        "           [r'${0}m$', r'${4}m$', r'${8}m$', r'${12}m$',r'${16}m$'])\n",
        "\n",
        "plt.xlabel('Sumbu X(jarak)')\n",
        "plt.ylabel('Sumbu Y(tinggi)')\n",
        "\n",
        "plt.axhline(c='black')\n",
        "plt.axvline(c='black')\n",
        "\n",
        "#Tampilkan Plot\n",
        "plt.show()"
      ],
      "execution_count": 100,
      "outputs": [
        {
          "output_type": "display_data",
          "data": {
            "image/png": "[encoded data removed]",
            "text/plain": [
              "<Figure size 432x288 with 1 Axes>"
            ]
          },
          "metadata": {
            "tags": [],
            "needs_background": "light"
          }
        }
      ]
    },
    {
      "cell_type": "code",
      "metadata": {
        "id": "x-CV9yP-AnMb",
        "colab_type": "code",
        "colab": {}
      },
      "source": [
        ""
      ],
      "execution_count": 100,
      "outputs": []
    }
  ]
}